{
 "cells": [
  {
   "cell_type": "code",
   "execution_count": 1,
   "id": "52642e82",
   "metadata": {},
   "outputs": [
    {
     "name": "stderr",
     "output_type": "stream",
     "text": [
      "[nltk_data] Downloading package punkt to\n",
      "[nltk_data]     C:\\Users\\ASUS\\AppData\\Roaming\\nltk_data...\n",
      "[nltk_data]   Unzipping tokenizers\\punkt.zip.\n"
     ]
    },
    {
     "name": "stdout",
     "output_type": "stream",
     "text": [
      "ChatBot: Hi, I'm your friendly chatbot. Type 'bye' to exit.\n",
      "You: hi\n",
      "ChatBot: Hi there!\n",
      "You: how are you\n",
      "ChatBot: I'm fine, thanks for asking.\n",
      "You: bye\n",
      "ChatBot: Goodbye! Have a great day.\n"
     ]
    }
   ],
   "source": [
    "import nltk\n",
    "from nltk.chat.util import Chat, reflections\n",
    "\n",
    "# Define pairs of patterns and responses\n",
    "pairs = [\n",
    "    [\"hi|hello|hey\", [\"Hello!\", \"Hi there!\", \"How can I help you?\"]],\n",
    "    [\"how are you\", [\"I'm doing well, thank you.\", \"I'm fine, thanks for asking.\"]],\n",
    "    [\"what is your name\", [\"I'm a chatbot.\", \"You can call me ChatBot.\"]],\n",
    "    [\"bye|goodbye\", [\"Goodbye!\", \"Have a great day!\"]],\n",
    "    [\"(.*) your name?\", [\"I'm a chatbot.\", \"You can call me ChatBot.\"]],\n",
    "    [\"(.*) help (.*)\", [\"I can help you with various topics. Just ask!\"]],\n",
    "    [\"(.*)\", [\"I'm sorry, I didn't understand that.\", \"Can you please rephrase your question?\"]],\n",
    "]\n",
    "\n",
    "# Create a chatbot\n",
    "chatbot = Chat(pairs, reflections)\n",
    "\n",
    "def chat():\n",
    "    print(\"ChatBot: Hi, I'm your friendly chatbot. Type 'bye' to exit.\")\n",
    "    while True:\n",
    "        user_input = input(\"You: \").lower()\n",
    "        if user_input == 'bye':\n",
    "            print(\"ChatBot: Goodbye! Have a great day.\")\n",
    "            break\n",
    "        else:\n",
    "            response = chatbot.respond(user_input)\n",
    "            print(\"ChatBot:\", response)\n",
    "\n",
    "if __name__ == \"__main__\":\n",
    "    nltk.download(\"punkt\")  # Download necessary data for nltk\n",
    "    chat()\n"
   ]
  },
  {
   "cell_type": "code",
   "execution_count": null,
   "id": "ec6e9848",
   "metadata": {},
   "outputs": [],
   "source": []
  }
 ],
 "metadata": {
  "kernelspec": {
   "display_name": "Python 3 (ipykernel)",
   "language": "python",
   "name": "python3"
  },
  "language_info": {
   "codemirror_mode": {
    "name": "ipython",
    "version": 3
   },
   "file_extension": ".py",
   "mimetype": "text/x-python",
   "name": "python",
   "nbconvert_exporter": "python",
   "pygments_lexer": "ipython3",
   "version": "3.11.3"
  }
 },
 "nbformat": 4,
 "nbformat_minor": 5
}
